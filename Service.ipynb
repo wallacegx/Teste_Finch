{
  "nbformat": 4,
  "nbformat_minor": 0,
  "metadata": {
    "colab": {
      "provenance": []
    },
    "kernelspec": {
      "name": "python3",
      "display_name": "Python 3"
    },
    "language_info": {
      "name": "python"
    }
  },
  "cells": [
    {
      "cell_type": "markdown",
      "source": [
        "CRIAMOS UMA API UTLIZANDO FLASK\n",
        "\n",
        "BASICAMENTE ESSA API RECEBE UM TRECHO DE UMA MUSICA VIA METODO POST, CARREGA O MODELO QUE FOI TRANSFORMADO EM ARQUIVO.PKL, FAZ UMA PREDIÇÃO DO GENERO QUE ESSE TEXTO PERTENCE E RETORNA EM FORMATO JSON O GENERO."
      ],
      "metadata": {
        "id": "hFE8DB1ZqgQb"
      }
    },
    {
      "cell_type": "code",
      "execution_count": null,
      "metadata": {
        "id": "pqGCKs-hMHqW"
      },
      "outputs": [],
      "source": [
        "from flask import Flask, request, jsonify\n",
        "from flask_cors import CORS\n",
        "import joblib\n",
        "import os\n",
        "import numpy as np\n",
        "\n",
        "saida = 'Saida/'\n",
        "\n",
        "app = Flask(__name__)\n",
        "CORS(app)\n",
        "\n",
        "\n",
        "@app.route('/')\n",
        "def root():\n",
        "    return \"Server no ar\"\n",
        "\n",
        "\n",
        "@app.route('/letra', methods=['POST'])\n",
        "def classify():\n",
        "    file = request.json\n",
        "\n",
        "    letra = file[\"letra\"]\n",
        "    model = joblib.load(saida + 'classificator.pkl')\n",
        "\n",
        "    genero = model.predict([letra])\n",
        "\n",
        "    data = {\"Genero\": genero[0]}\n",
        "    response = jsonify(data)\n",
        "    return response\n",
        "\n",
        "\n",
        "if __name__ == \"__main__\":\n",
        "    port = int(os.environ.get(\"PORT\", 5000))\n",
        "    app.run(host='0.0.0.0', port=port)"
      ]
    }
  ]
}